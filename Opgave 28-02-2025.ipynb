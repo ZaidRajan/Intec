{
 "cells": [
  {
   "cell_type": "markdown",
   "metadata": {},
   "source": [
    "# Een speelkaart heeft een kleur (\"Harten\", \"Schoppen\", \"Klaveren\", \"Ruiten\") en een waarde (2, 3, 4, 5, 6, 7, 8, 9, 10, \"Boer\", \"Vrouw\", \"Heer\", \"Aas\"). Maak een list met alle mogelijke speelkaarten, wat ook wel een stok wordt genoemd. Schrijf dan een functie die de stok schudt, en dus een toevallige volgorde van de kaarten veroorzaakt.\n"
   ]
  },
  {
   "cell_type": "code",
   "execution_count": 2,
   "metadata": {},
   "outputs": [
    {
     "name": "stdout",
     "output_type": "stream",
     "text": [
      "[('Klaveren', 4), ('Harten', 2), ('Ruiten', 5), ('Schoppen', 3)]\n"
     ]
    }
   ],
   "source": [
    "color  = [\"Harten\" , \"Schoppen\" , \"Klaveren\" , \"Ruiten\"]\n",
    "\n",
    "value = [2, 3, 4, 5, 6, 7, 8, 9, 10, \"Boer\", \"Vrouw\", \"Heer\", \"Aas\"]\n",
    "stok = [(color[i], value[i]) \n",
    "        for i in range(len(color))]\n",
    "\n",
    "import random\n",
    "\n",
    "def shuffle_deck():\n",
    "    random.shuffle(stok)\n",
    "    return stok\n",
    "\n",
    "print(shuffle_deck())\n",
    "\n",
    "# Test de functie\n",
    "\n",
    "\n",
    "        "
   ]
  },
  {
   "cell_type": "markdown",
   "metadata": {},
   "source": [
    "# Opgave 2\n",
    "Tel hoe vaak iedere letter voorkomt in een string (zonder verschil te maken tussen hoofd- en kleine letters). Je mag ieder teken dat geen letter is negeren. Print de letters met het aantal malen dat ze voorkomen, waarbij je de letters sorteert van veel voorkomend naar weinig voorkomend."
   ]
  },
  {
   "cell_type": "code",
   "execution_count": 11,
   "metadata": {},
   "outputs": [
    {
     "name": "stdout",
     "output_type": "stream",
     "text": [
      "e: 50\n",
      "t: 24\n",
      "n: 21\n",
      "r: 20\n",
      "o: 17\n",
      "a: 15\n",
      "l: 11\n",
      "i: 11\n",
      "d: 10\n",
      "s: 9\n",
      "v: 8\n",
      "k: 8\n",
      "m: 8\n",
      "g: 5\n",
      "h: 4\n",
      "j: 3\n",
      "z: 2\n",
      "w: 2\n",
      "c: 1\n",
      "u: 1\n",
      "f: 1\n",
      "p: 1\n",
      "b: 1\n"
     ]
    }
   ],
   "source": [
    "from collections import Counter\n",
    "def count_letters(string):\n",
    "    string = string.lower()\n",
    "\n",
    "    letter_counts = Counter(filter(str.isalpha, string))\n",
    "    sorted_counts = sorted(letter_counts.items(), key=lambda x: x[1], reverse=True)\n",
    "\n",
    "    for letter, count in sorted_counts:\n",
    "        print(f\"{letter}: {count}\")\n",
    "string = \"Tel hoe vaak iedere letter voorkomt in een string (zonder verschil te maken tussen hoofd- en kleine letters). Je mag ieder teken dat geen letter is negeren. Print de letters met het aantal malen dat ze voorkomen, waarbij je de letters sorteert van veel voorkomend naar weinig voorkomend.\"\n",
    "count_letters(string)"
   ]
  },
  {
   "cell_type": "markdown",
   "metadata": {},
   "source": [
    "# Opgave 3\n",
    "De zeef van Eratosthenes is een methode om alle priemgetallen te vinden tussen 1 en een gegeven getal, gebruik makend van een list. Dit werkt als volgt. Je begint met een list te maken die bestaat uit de getallen 1 tot en met een zeker “hoogste getal.” Zet de waarde van 1 op nul, omdat 1 geen priemgetal is. Verwerk nu de list in een loop. Zoek naar het eerste nummer dat niet op 0 staat, wat nummer 2 is. Dat betekent dat 2 een priemgetal is, maar alle veelvouden van 2 zijn dat niet. Dus zet alle veelvouden van 2 op 0. Zoek dan naar het volgende nummer dat geen nul is, en dat is 3. Zet alle veelvouden van 3 op nul. Zoek dan naar het volgende nummer dat geen nul is, en dat is 5. Zet alle veelvouden van 5 op nul. Verwerk zo de hele list. Als je klaar bent, zijn alleen nog de getallen over die priemgetallen zijn. Gebruik deze methode om alle priemgetallen tussen 1 en 100 te bepalen."
   ]
  },
  {
   "cell_type": "code",
   "execution_count": 9,
   "metadata": {},
   "outputs": [
    {
     "name": "stdout",
     "output_type": "stream",
     "text": [
      "hello: 2\n",
      "world: 1\n",
      "this: 1\n",
      "is: 1\n",
      "a: 1\n",
      "test: 1\n",
      "string: 1\n",
      "again: 1\n"
     ]
    }
   ],
   "source": [
    "from collections import Counter\n",
    "    \n",
    "def count_words(input_string):\n",
    "    cleaned_string = ''.join(char.lower() if char.isalnum() or char.isspace() else ' ' for char in input_string)\n",
    "    word_counts = Counter(cleaned_string.split())\n",
    "    sorted_words = sorted(word_counts.items(), key=lambda x: x[1], reverse=True)\n",
    "    return sorted_words\n",
    "\n",
    "input_string = \"Hello, world! This is a test string. Hello again.\"\n",
    "\n",
    "result = count_words(input_string)\n",
    "\n",
    "for word, count in result:\n",
    "    print(f\"{word}: {count}\")"
   ]
  },
  {
   "cell_type": "markdown",
   "metadata": {},
   "source": [
    "# Opgave 4\n",
    "Schrijf een programma dat een tekst neemt (bijvoorbeeld de tekst hieronder), de tekst splitst in woorden (waarbij alles dat geen letter is beschouwd wordt als een woordscheider), en een dictionary bouwt die voor ieder woord (case-insensitive) opslaat hoe vaak het woord voorkomt in de tekst. Print dan alle woorden met hun hoeveelheden in alfabetische volgorde."
   ]
  },
  {
   "cell_type": "code",
   "execution_count": 5,
   "metadata": {},
   "outputs": [
    {
     "name": "stdout",
     "output_type": "stream",
     "text": [
      "Indices of vowels: [2, 5, 8, 11, 13, 17, 22, 27, 30, 35, 37, 40, 43, 45]\n"
     ]
    }
   ],
   "source": [
    "def find_vowel_indices(input_string):\n",
    "    vowels = \"aeiou\"\n",
    "    index = 0\n",
    "    vowel_inices  = []\n",
    "\n",
    "    while index < len(input_string):\n",
    "        if input_string[index].lower() in vowels:\n",
    "            vowel_inices.append(index)\n",
    "        index += 1\n",
    "    return vowel_inices\n",
    "input_string = \"This is an example string to find vowel indices.\"\n",
    "vowel_indices = find_vowel_indices(input_string)\n",
    "print(\"Indices of vowels:\", vowel_indices)\n",
    "\n",
    "\n"
   ]
  },
  {
   "cell_type": "code",
   "execution_count": 8,
   "metadata": {},
   "outputs": [
    {
     "name": "stdout",
     "output_type": "stream",
     "text": [
      "Sub ganda hai pr dhanda hai ye\n"
     ]
    }
   ],
   "source": [
    "def compare_strings(string1, string2):\n",
    "    string1 = string1.lower().replace(\" \", \"\")\n",
    "    string2 = string2.lower().replace(\" \", \"\")\n",
    "    if len(string1)!= len(string2):\n",
    "        return \"Sub ganda hai pr dhanda hai ye\"\n",
    "    for i in range(len(string1)):\n",
    "        if string1[i]!= string2[i]:\n",
    "            return False\n",
    "        return True\n",
    "string1 = \"The Holy Grail\"\n",
    "string2 = \"Life of Brian\"\n",
    "\n",
    "compare_strings(string1, string2)\n",
    "print(compare_strings(string1, string2))"
   ]
  },
  {
   "cell_type": "markdown",
   "metadata": {},
   "source": [
    "# Opgave 5\n",
    "\n",
    "Schrijf een programma dat twee strings gebruikt. Voor ieder teken in de eerste string dat in de tweede string precies hetzelfde teken heeft met precies dezelfde index, druk je het teken en de index af. Pas op voor een “index out of range” runtime error. Test met de strings \"The Holy Grail\" en \"Life of Brian\".\n",
    "\n"
   ]
  },
  {
   "cell_type": "code",
   "execution_count": 9,
   "metadata": {},
   "outputs": [
    {
     "name": "stdout",
     "output_type": "stream",
     "text": [
      "character 'o' at index 5 is the same in both strings\n",
      "character 'a' at index 11 is the same in both strings\n"
     ]
    }
   ],
   "source": [
    "def compare_strings(string1, string2):\n",
    "    min_length = min(len(string1), len(string2))\n",
    "    for i in range(min_length):\n",
    "        if string1[i]== string2[i]:\n",
    "            print(f\"character '{string1[i]}' at index {i} is the same in both strings\")\n",
    "string1 = \"The Holy Grail\"\n",
    "string2 = \"Life of Brian\"\n",
    "\n",
    "compare_strings(string1, string2)\n"
   ]
  }
 ],
 "metadata": {
  "kernelspec": {
   "display_name": "Python 3",
   "language": "python",
   "name": "python3"
  },
  "language_info": {
   "codemirror_mode": {
    "name": "ipython",
    "version": 3
   },
   "file_extension": ".py",
   "mimetype": "text/x-python",
   "name": "python",
   "nbconvert_exporter": "python",
   "pygments_lexer": "ipython3",
   "version": "3.13.2"
  }
 },
 "nbformat": 4,
 "nbformat_minor": 2
}
