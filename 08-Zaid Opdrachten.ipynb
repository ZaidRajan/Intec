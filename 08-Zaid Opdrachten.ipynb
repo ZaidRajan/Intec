{
 "cells": [
  {
   "cell_type": "markdown",
   "metadata": {},
   "source": [
    "1-This is a module for our Person class.\n",
    ".. author: Je voornaam en familienaam <voornaam.familienaam@student.intecbrussel.be>\n"
   ]
  },
  {
   "cell_type": "code",
   "execution_count": 8,
   "metadata": {},
   "outputs": [
    {
     "name": "stdout",
     "output_type": "stream",
     "text": [
      "Person: Justin Bieber, is 38 years old.\n",
      "\tContact: Brussel Centraal, 46852145678, just.in@be\n",
      "Person: Nikola Tesla, is 57 years old.\n",
      "\tContact: Stad Gent, 4966321185, nikola.tesla@legends.com\n"
     ]
    }
   ],
   "source": [
    "\n",
    "\n",
    "from datetime import date\n",
    "\n",
    "class Person:\n",
    "    \"\"\"This is a class which represents a person. It is a bit of a silly class.\n",
    "    It stores some personal information, and can calculate a person's age.\n",
    "    \"\"\"\n",
    "\n",
    "    def __init__(self, name, surname, birthdate, address, telephone, email): # voeg de methode argumenten hier\n",
    "        \"\"\"This method creates a new person.\n",
    "\n",
    "        :param name: first name\n",
    "        :type name: str\n",
    "        :param surname: surname\n",
    "        :type surname: str\n",
    "        :param birthdate: date of birth\n",
    "        :type birthdate: datetime.date\n",
    "        :param address: physical address\n",
    "        :type address: str\n",
    "        :param telephone: telephone number\n",
    "        :type telephone: str\n",
    "        :param email: email address\n",
    "        :type email: str\n",
    "        \"\"\"\n",
    "        self.name = name\n",
    "        self.surname = surname\n",
    "        self.birthdate = birthdate\n",
    "        self.address = address\n",
    "        self.telephone = telephone\n",
    "        self.email = email\n",
    "        \n",
    "        # voeg je code hier ...\n",
    "\n",
    "\n",
    "    def age(self):\n",
    "        \"\"\"This method calculates the person's age from the birthdate and the current date.\n",
    "\n",
    "        :returns: int -- the person's age in years\n",
    "        \"\"\"\n",
    "        today = date.today()\n",
    "        age = today.year - self.birthdate.year\n",
    "        if (today.month, today.day) < (self.birthdate.month, self.birthdate.day):\n",
    "            age -= 1\n",
    "        return age\n",
    "    \n",
    "        # voeg je code hier ...\n",
    "        \n",
    "    def email_domain(self): # voeg de methode argumenten hier (als ze vereist zijn...)\n",
    "        return self.email.split(\"@\")[-1]  \n",
    "\n",
    "    def __str__(self):\n",
    "        return (\n",
    "            f\"Person: {self.name} {self.surname}, is {self.age()} years old.\\n\"  # Here is the problem: should call self.age() instead of self.calculate_age()\n",
    "            f\"\\tContact: {self.address}, {self.telephone}, {self.email}\"\n",
    "        )\n",
    "\n",
    "person1 = Person(\"Justin\", \"Bieber\", date.fromisoformat(\"1986-03-11\"), \"Brussel Centraal\", 46852145678, \"just.in@be\")\n",
    "print(person1)\n",
    "\n",
    "person2 = Person(\"Nikola\", \"Tesla\", date.fromisoformat(\"1967-03-11\"), \"Stad Gent\", 4966321185, \"nikola.tesla@legends.com\")\n",
    "print(person2)"
   ]
  },
  {
   "cell_type": "code",
   "execution_count": 7,
   "metadata": {},
   "outputs": [
    {
     "ename": "SyntaxError",
     "evalue": "invalid syntax (2734407616.py, line 3)",
     "output_type": "error",
     "traceback": [
      "\u001b[1;36m  Cell \u001b[1;32mIn[7], line 3\u001b[1;36m\u001b[0m\n\u001b[1;33m    Person: Justin Bieber, is 38 years old.\u001b[0m\n\u001b[1;37m                   ^\u001b[0m\n\u001b[1;31mSyntaxError\u001b[0m\u001b[1;31m:\u001b[0m invalid syntax\n"
     ]
    }
   ],
   "source": [
    "## uitvoer:\n",
    "\n",
    "Person: Justin Bieber, is 38 years old.\n",
    "\n",
    "Contact: Brussel Centraal.46852145678, just.in@be\n",
    "\n",
    "\n",
    "Person: Nikola Tesla, is 57 years old.\n",
    "\n",
    "Contact: Stad Gent.4966321185, nikola.tesla@legends.com"
   ]
  },
  {
   "cell_type": "markdown",
   "metadata": {},
   "source": [
    "2.1. Definieer een class genaamd Dog met een constructor __init__ die eigenschappen name, age en coat_color initialiseert. De class moet ook een methode __str__ hebben die een leesbare string retourneert met de naam en leeftijd van de hond. Implementeer de methode speak om het geluid van de hond weer te geven.\n",
    " \n",
    "2.2. Maak een instantie van de Dog klasse genaamd philo met een leeftijd van 5 jaar en een bruine vacht. Druk vervolgens de zin af die de kleur van de vacht van Philo beschrijft.\n",
    " \n",
    "\n",
    "\n"
   ]
  },
  {
   "cell_type": "code",
   "execution_count": 19,
   "metadata": {},
   "outputs": [
    {
     "name": "stdout",
     "output_type": "stream",
     "text": [
      "Philo's coat is brown.\n",
      "Philo says Bark\n"
     ]
    }
   ],
   "source": [
    "class Dog:\n",
    "    \n",
    "    def __init__(self, name, age, coat_color):\n",
    "        self.name = name\n",
    "        self.age = age\n",
    "        self.coat_color = coat_color\n",
    "    \n",
    "    def __str__(self):\n",
    "        return f\"{self.name}'s coat is {self.coat_color}.\"    \n",
    "    def speak(self):\n",
    "        return f\"{self.name} says Bark\"\n",
    "my_dog = Dog(\"Philo\", 5, \"brown\")\n",
    "print(my_dog)\n",
    "print(my_dog.speak())"
   ]
  },
  {
   "cell_type": "code",
   "execution_count": null,
   "metadata": {},
   "outputs": [],
   "source": [
    "## uitvoer\n",
    "Philo's coat is brown.\n",
    "Philo says Bark"
   ]
  },
  {
   "cell_type": "markdown",
   "metadata": {},
   "source": [
    "3.1. Definieer een class genaamd Car met een constructor __init__ die eigenschappen color en mileage initialiseert. Implementeer een methode genaamd drive waarmee de mijlen kunnen worden toegevoegd aan de mileage van de auto.\n",
    " \n",
    "3.2. Maak twee instanties van de Car klasse met verschillende kleuren en beginwaarden voor de mijlen.\n",
    " \n",
    "3.3. Loop door de auto's en druk de zin af die de kleur en mijlen van elke auto beschrijft."
   ]
  },
  {
   "cell_type": "code",
   "execution_count": 27,
   "metadata": {},
   "outputs": [
    {
     "name": "stdout",
     "output_type": "stream",
     "text": [
      "The green car has 20000 miles\n",
      "The red car has 30000 miles\n"
     ]
    }
   ],
   "source": [
    "class Car:\n",
    "    \n",
    "    def __init__(self, color, mileage):\n",
    "        self.color = color\n",
    "        self.mileage = mileage\n",
    "    \n",
    "    def drive(self, miles):\n",
    "        return self.mileage\n",
    "    # Creating a first instance of the car\n",
    "car1 = Car(\"green\", 20000)\n",
    "car2 = Car(\"red\", 30000)\n",
    "    \n",
    "car1.drive(100)\n",
    "print(f\"The {car1.color} car has {car1.mileage} miles\")\n",
    "car2.drive(50)\n",
    "print(f\"The {car2.color} car has {car2.mileage} miles\")\n"
   ]
  },
  {
   "cell_type": "code",
   "execution_count": null,
   "metadata": {},
   "outputs": [],
   "source": [
    "## uitvoer:\n",
    "The green car has 20000 miles\n",
    "The red car has 30000 miles"
   ]
  },
  {
   "cell_type": "markdown",
   "metadata": {},
   "source": [
    "4.1. Maak een instantie van de Car klasse met de kleur blauw en een oorspronkelijke mijlenstand van 0.\n",
    " \n",
    "4.2. Rijd 100 mijl met de blauwe auto en druk vervolgens de mijlenstand af."
   ]
  },
  {
   "cell_type": "code",
   "execution_count": 78,
   "metadata": {},
   "outputs": [
    {
     "name": "stdout",
     "output_type": "stream",
     "text": [
      "The blue car has 200 miles\n"
     ]
    }
   ],
   "source": [
    "blue_car = Car(color=\"blue\", mileage=0)\n",
    "blue_car.drive(200) \n",
    "print(f\"The {blue_car.color} car has {blue_car.mileage} miles\")"
   ]
  },
  {
   "cell_type": "code",
   "execution_count": null,
   "metadata": {},
   "outputs": [],
   "source": [
    "## uitvoer\n",
    "The blue car has 200 miles"
   ]
  },
  {
   "cell_type": "markdown",
   "metadata": {},
   "source": [
    "\n",
    "\n",
    "5- Vul de methoden van de klasse Line in om coördinaten als een paar tupels te accepteren en de helling (slope) en afstand (distance) van de lijn te retourneren.\n",
    "\n",
    "\n",
    "\n",
    "\n",
    "\n",
    "\n",
    "\n",
    "\n",
    "\n",
    "\n"
   ]
  },
  {
   "cell_type": "code",
   "execution_count": 79,
   "metadata": {},
   "outputs": [],
   "source": [
    "class Line:\n",
    "    \n",
    "    def __init__(self, coor1, coor2):\n",
    "        self.coor1 = coor1\n",
    "        self.coor2 = coor2\n",
    "\n",
    "    \n",
    "    def distance(self):\n",
    "        x1, y1 = self.coor1\n",
    "        x2, y2 = self.coor2\n",
    "        return ((x2-x1)**2 + (y2-y1)**2)**0.5\n",
    "    \n",
    "    def slope(self):\n",
    "        x1, y1 = self.coor1\n",
    "        x2, y2 = self.coor2\n",
    "        return (y2-y1) / (x2-x1)\n",
    "    "
   ]
  },
  {
   "cell_type": "code",
   "execution_count": 80,
   "metadata": {},
   "outputs": [],
   "source": [
    "# EEN VOORBEELD SCENARIO OM UIT TE VOEREN\n",
    "\n",
    "coordinate1 = (3,2)\n",
    "coordinate2 = (8,10)\n",
    "li = Line(coordinate1,coordinate2)"
   ]
  },
  {
   "cell_type": "code",
   "execution_count": 81,
   "metadata": {},
   "outputs": [
    {
     "data": {
      "text/plain": [
       "9.433981132056603"
      ]
     },
     "execution_count": 81,
     "metadata": {},
     "output_type": "execute_result"
    }
   ],
   "source": [
    "li.distance()"
   ]
  },
  {
   "cell_type": "code",
   "execution_count": null,
   "metadata": {},
   "outputs": [],
   "source": [
    "#uitvoer\n",
    "9.433981132056603"
   ]
  },
  {
   "cell_type": "code",
   "execution_count": 71,
   "metadata": {},
   "outputs": [
    {
     "data": {
      "text/plain": [
       "1.6"
      ]
     },
     "execution_count": 71,
     "metadata": {},
     "output_type": "execute_result"
    }
   ],
   "source": [
    "li.slope()"
   ]
  },
  {
   "cell_type": "code",
   "execution_count": 39,
   "metadata": {},
   "outputs": [
    {
     "data": {
      "text/plain": [
       "1.6"
      ]
     },
     "execution_count": 39,
     "metadata": {},
     "output_type": "execute_result"
    }
   ],
   "source": [
    "#uitvoer\n",
    "1.6"
   ]
  },
  {
   "cell_type": "markdown",
   "metadata": {},
   "source": [
    "6-Vul de klas in"
   ]
  },
  {
   "cell_type": "code",
   "execution_count": 72,
   "metadata": {},
   "outputs": [],
   "source": [
    "class Cylinder:\n",
    "    \n",
    "    def __init__(self,height=1,radius=1):\n",
    "        self.height = height\n",
    "        self.radius = radius\n",
    "        \n",
    "    def volume(self):\n",
    "        return 3.14 * (self.radius**2) * self.height\n",
    "    def surface_area(self):\n",
    "        return 2*3.14*self.radius**2 + 2*3.14*self.radius*self.height"
   ]
  },
  {
   "cell_type": "code",
   "execution_count": 73,
   "metadata": {},
   "outputs": [],
   "source": [
    "# EEN VOORBEELD SCENARIO OM UIT TE VOEREN\n",
    "\n",
    "c = Cylinder(2,3)\n"
   ]
  },
  {
   "cell_type": "code",
   "execution_count": 74,
   "metadata": {},
   "outputs": [
    {
     "data": {
      "text/plain": [
       "56.52"
      ]
     },
     "execution_count": 74,
     "metadata": {},
     "output_type": "execute_result"
    }
   ],
   "source": [
    "c.volume()"
   ]
  },
  {
   "cell_type": "code",
   "execution_count": 46,
   "metadata": {},
   "outputs": [
    {
     "data": {
      "text/plain": [
       "56.52"
      ]
     },
     "execution_count": 46,
     "metadata": {},
     "output_type": "execute_result"
    }
   ],
   "source": [
    "#uitvoer\n",
    "56.52"
   ]
  },
  {
   "cell_type": "code",
   "execution_count": 52,
   "metadata": {},
   "outputs": [
    {
     "data": {
      "text/plain": [
       "94.2"
      ]
     },
     "execution_count": 52,
     "metadata": {},
     "output_type": "execute_result"
    }
   ],
   "source": [
    "c.surface_area()"
   ]
  },
  {
   "cell_type": "code",
   "execution_count": 48,
   "metadata": {},
   "outputs": [
    {
     "data": {
      "text/plain": [
       "94.2"
      ]
     },
     "execution_count": 48,
     "metadata": {},
     "output_type": "execute_result"
    }
   ],
   "source": [
    "#uitvoer\n",
    "94.2"
   ]
  }
 ],
 "metadata": {
  "kernelspec": {
   "display_name": "Python 3",
   "language": "python",
   "name": "python3"
  },
  "language_info": {
   "codemirror_mode": {
    "name": "ipython",
    "version": 3
   },
   "file_extension": ".py",
   "mimetype": "text/x-python",
   "name": "python",
   "nbconvert_exporter": "python",
   "pygments_lexer": "ipython3",
   "version": "3.13.2"
  },
  "orig_nbformat": 4
 },
 "nbformat": 4,
 "nbformat_minor": 2
}
